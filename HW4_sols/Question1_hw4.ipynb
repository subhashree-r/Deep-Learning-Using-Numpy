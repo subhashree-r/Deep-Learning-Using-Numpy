{
 "cells": [
  {
   "cell_type": "markdown",
   "metadata": {},
   "source": [
    "**Derivative of the loss function**\n",
    "\n",
    "$ L = -\\sum x_k \\log(\\hat{x}) + (1-x_k) \\log (1- \\hat{x_k})$\n",
    "<br>\n",
    "\n",
    "** Considering 1 layer **\n",
    "\n",
    "$\\hat{x_k} = Ytrue$\n",
    "$y_k = y_predicted$\n",
    "\n",
    "$\\hat{x_k} = 1/1+e^{-a1}$\n",
    "<br>\n",
    "\n",
    "$a1 = w1.input$\n",
    "\n",
    "<br>\n",
    "\n",
    "$\\frac{\\partial L }{\\partial W1} = \\frac{\\partial \\hat{L}}{\\partial \\hat{x_k} }* \\frac{\\partial \\hat{x_k }}{\\partial a1} *\\frac{\\partial a1 }{\\partial W1} $ \n",
    "\n",
    "\n",
    "<br>\n",
    "$\\frac{\\partial {L}}{\\partial \\hat{x_k} } = \\frac{- x_k}{\\hat{x_k}}+ \\frac{1-x_k}{1 - \\hat{x_k}}$\n",
    "\n",
    "<br>\n",
    "\n",
    "$\\frac{\\partial \\hat{x_k}}{\\partial a1 } =\\hat{x_k}(1 - \\hat{x_k})$\n",
    "\n",
    "<br>\n",
    "\n",
    "$\\frac{\\partial a1}{\\partial w1 } =input$\n",
    "\n",
    "<br>\n",
    "\n",
    "$\\frac{\\partial L }{\\partial W1} = input * \\hat{x_k}(1 - \\hat{x_k}) * \\frac{- x_k}{\\hat{x_k}}+ \\frac{1-x_k}{1 - \\hat{x_k}}$\n",
    "\n",
    "After Cancellation \n",
    "\n",
    "$\\frac{\\partial L }{\\partial W1} = input * (\\hat{x_k} - x_k )$\n",
    "\n",
    "Since the input is 1 or zero, the final equation is\n",
    "<br>\n",
    "$\\frac{\\partial L }{\\partial W1} = (\\hat{x_k} - x_k )$\n",
    "\n",
    "\n",
    "\n",
    "\n",
    "\n",
    "\n",
    "\n"
   ]
  },
  {
   "cell_type": "code",
   "execution_count": null,
   "metadata": {
    "collapsed": true
   },
   "outputs": [],
   "source": []
  }
 ],
 "metadata": {
  "kernelspec": {
   "display_name": "Python 2",
   "language": "python",
   "name": "python2"
  },
  "language_info": {
   "codemirror_mode": {
    "name": "ipython",
    "version": 2
   },
   "file_extension": ".py",
   "mimetype": "text/x-python",
   "name": "python",
   "nbconvert_exporter": "python",
   "pygments_lexer": "ipython2",
   "version": "2.7.13"
  }
 },
 "nbformat": 4,
 "nbformat_minor": 2
}
